{
 "cells": [
  {
   "cell_type": "code",
   "execution_count": 1,
   "id": "044d636b",
   "metadata": {},
   "outputs": [],
   "source": [
    "import unstructured_client \n",
    "from unstructured_client.models import operations , shared "
   ]
  },
  {
   "cell_type": "code",
   "execution_count": null,
   "id": "58e87dd7",
   "metadata": {},
   "outputs": [],
   "source": [
    "import dotenv \n",
    "import os \n",
    "dotenv.load_dotenv()\n",
    "UNSTRUCTURED_API_KEY=os.environ[\"UNSTRUCTURED_API_KEY\"]\n",
    "\n",
    "uio_client = unstructured_client.UnstructuredClient(\n",
    "          api_key_auth=UNSTRUCTURED_API_KEY\n",
    "         )"
   ]
  },
  {
   "cell_type": "code",
   "execution_count": 4,
   "id": "9bdc6de7",
   "metadata": {},
   "outputs": [],
   "source": [
    "def get_request( file : bytes , filename : str ,  **kwargs):\n",
    "        # Default parameters\n",
    "\n",
    "    \n",
    "        defaults = {\n",
    "            \"strategy\": \"hi_res\",\n",
    "            \"chunking_strategy\": \"by_title\",\n",
    "            \"max_characters\": 3000, ### for testing \n",
    "            \"new_after_n_chars\": 2400,\n",
    "            \"unique_element_ids\": True,\n",
    "            \"extract_image_block_types\": [\"Image\", \"Table\"],\n",
    "            \"pdf_infer_table_structure\": True,\n",
    "            \"include_page_breaks\": False,\n",
    "            \"split_pdf_page\": True,\n",
    "            \"split_pdf_concurrency_level\": 15,\n",
    "            \"include_orig_elements\": True\n",
    "        }\n",
    "        \n",
    "        # Override defaults with any provided kwargs\n",
    "        params = {**defaults, **kwargs}\n",
    "        \n",
    "        request = operations.PartitionRequest(\n",
    "            partition_parameters=shared.PartitionParameters(\n",
    "                files=shared.Files(\n",
    "                    content=file,\n",
    "                    file_name=filename,\n",
    "                ),\n",
    "                **params\n",
    "            )\n",
    "        )\n",
    "        \n",
    "        return request "
   ]
  },
  {
   "cell_type": "code",
   "execution_count": 3,
   "id": "6fee5435",
   "metadata": {},
   "outputs": [],
   "source": [
    "pdf_path = \"ocs.pdf\" \n",
    "with open(pdf_path , \"rb\") as file : \n",
    "    file_data  = file.read()"
   ]
  },
  {
   "cell_type": "code",
   "execution_count": 5,
   "id": "9a41fea1",
   "metadata": {},
   "outputs": [
    {
     "name": "stderr",
     "output_type": "stream",
     "text": [
      "INFO: HTTP Request: GET https://api.unstructuredapp.io/general/docs \"HTTP/1.1 200 OK\"\n",
      "INFO: HTTP Request: POST https://api.unstructuredapp.io/general/v0/general \"HTTP/1.1 200 OK\"\n",
      "INFO: HTTP Request: POST https://api.unstructuredapp.io/general/v0/general \"HTTP/1.1 200 OK\"\n",
      "INFO: HTTP Request: POST https://api.unstructuredapp.io/general/v0/general \"HTTP/1.1 200 OK\"\n",
      "INFO: HTTP Request: POST https://api.unstructuredapp.io/general/v0/general \"HTTP/1.1 200 OK\"\n",
      "INFO: HTTP Request: POST https://api.unstructuredapp.io/general/v0/general \"HTTP/1.1 200 OK\"\n"
     ]
    }
   ],
   "source": [
    "request = get_request(file=file_data , filename=\"ocs\")\n",
    "response = await uio_client.general.partition_async(request=request)"
   ]
  },
  {
   "cell_type": "code",
   "execution_count": 8,
   "id": "b7667682",
   "metadata": {},
   "outputs": [],
   "source": [
    "chunk = response.elements[0]"
   ]
  },
  {
   "cell_type": "code",
   "execution_count": 10,
   "id": "19bd8326",
   "metadata": {},
   "outputs": [],
   "source": [
    "orig_elements = chunk[\"metadata\"][\"orig_elements\"]  "
   ]
  },
  {
   "cell_type": "code",
   "execution_count": 11,
   "id": "26b5a614",
   "metadata": {},
   "outputs": [
    {
     "data": {
      "text/plain": [
       "'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'"
      ]
     },
     "execution_count": 11,
     "metadata": {},
     "output_type": "execute_result"
    }
   ],
   "source": [
    "orig_elements"
   ]
  },
  {
   "cell_type": "code",
   "execution_count": 26,
   "id": "94cbce85",
   "metadata": {},
   "outputs": [],
   "source": [
    "\n",
    "\n",
    "import json \n",
    "from pathlib import Path \n",
    "import base64\n",
    "import zlib\n",
    "\n",
    "def elements_from_base64_gzipped_json(b64_encoded_elements: str):\n",
    "    \"\"\"Manually decode base64 gzipped JSON elements\"\"\"\n",
    "    # Base64 decode\n",
    "    decoded_bytes = base64.b64decode(b64_encoded_elements)\n",
    "    # Decompress gzip\n",
    "    decompressed_bytes = zlib.decompress(decoded_bytes)\n",
    "    # Decode to string and parse JSON\n",
    "    elements_json = decompressed_bytes.decode('utf-8')\n",
    "    element_dicts = json.loads(elements_json)\n",
    "    return element_dicts\n"
   ]
  },
  {
   "cell_type": "code",
   "execution_count": 27,
   "id": "4ee92dfd",
   "metadata": {},
   "outputs": [],
   "source": [
    "atomic_elements = elements_from_base64_gzipped_json(orig_elements) "
   ]
  },
  {
   "cell_type": "code",
   "execution_count": 28,
   "id": "e3b9d2fe",
   "metadata": {},
   "outputs": [
    {
     "data": {
      "text/plain": [
       "[{'element_id': '335c21c8-5d05-409c-8234-fa8aa8388265',\n",
       "  'metadata': {'coordinates': {'layout_height': 2339,\n",
       "    'layout_width': 1656,\n",
       "    'points': [[143.5, 199.0],\n",
       "     [143.5, 248.5],\n",
       "     [1505.1, 248.5],\n",
       "     [1505.1, 199.0]],\n",
       "    'system': 'PixelSpace'},\n",
       "   'detection_class_prob': 0.63747,\n",
       "   'filetype': 'PPM',\n",
       "   'image_base64': '/9j/4AAQSkZJRgABAQAAAQABAAD/2wBDAAgGBgcGBQgHBwcJCQgKDBQNDAsLDBkSEw8UHRofHh0aHBwgJC4nICIsIxwcKDcpLDAxNDQ0Hyc5PTgyPC4zNDL/2wBDAQkJCQwLDBgNDRgyIRwhMjIyMjIyMjIyMjIyMjIyMjIyMjIyMjIyMjIyMjIyMjIyMjIyMjIyMjIyMjIyMjIyMjL/wAARCAAyBVEDASIAAhEBAxEB/8QAHwAAAQUBAQEBAQEAAAAAAAAAAAECAwQFBgcICQoL/8QAtRAAAgEDAwIEAwUFBAQAAAF9AQIDAAQRBRIhMUEGE1FhByJxFDKBkaEII0KxwRVS0fAkM2JyggkKFhcYGRolJicoKSo0NTY3ODk6Q0RFRkdISUpTVFVWV1hZWmNkZWZnaGlqc3R1dnd4eXqDhIWGh4iJipKTlJWWl5iZmqKjpKWmp6ipqrKztLW2t7i5usLDxMXGx8jJytLT1NXW19jZ2uHi4+Tl5ufo6erx8vP09fb3+Pn6/8QAHwEAAwEBAQEBAQEBAQAAAAAAAAECAwQFBgcICQoL/8QAtREAAgECBAQDBAcFBAQAAQJ3AAECAxEEBSExBhJBUQdhcRMiMoEIFEKRobHBCSMzUvAVYnLRChYkNOEl8RcYGRomJygpKjU2Nzg5OkNERUZHSElKU1RVVldYWVpjZGVmZ2hpanN0dXZ3eHl6goOEhYaHiImKkpOUlZaXmJmaoqOkpaanqKmqsrO0tba3uLm6wsPExcbHyMnK0tPU1dbX2Nna4uPk5ebn6Onq8vP09fb3+Pn6/9oADAMBAAIRAxEAPwD0f4v395pnwt1m8sLue0uo/I2TQSGN1zPGDhhyMgkfjXiVh4s8Rvp1qzeINVZmhQkm8kJJwPevZfjb/wAkh13/ALd//SiOvAtN/wCQXaf9cU/9BFefmDairH13CNOE69RTSei39ToP+Ep8Q/8AQe1T/wADJP8AGj/hKfEP/Qe1T/wMk/xrJory+eXc+8+q0P5F9yNb/hKfEP8A0HtU/wDAyT/Gj/hKfEP/AEHtU/8AAyT/ABrJoo55dw+q0P5F9yNb/hKfEP8A0HtU/wDAyT/Gj/hKfEP/AEHtU/8AAyT/ABrJoo55dw+q0P5F9yNb/hKfEP8A0HtU/wDAyT/Gj/hKfEP/AEHtU/8AAyT/ABrJoo55dw+q0P5F9yNb/hKfEP8A0HtU/wDAyT/Gj/hKfEP/AEHtU/8AAyT/ABrJoo55dw+q0P5F9yNb/hKfEP8A0HtU/wDAyT/Gj/hKfEP/AEHtU/8AAyT/ABrJoo55dw+q0P5F9yNb/hKfEP8A0HtU/wDAyT/Gj/hKfEP/AEHtU/8AAyT/ABrJoo55dw+q0P5F9yNb/hKfEP8A0HtU/wDAyT/Gj/hKfEP/AEHtU/8AAyT/ABrJoo55dw+q0P5F9yNb/hKfEP8A0HtU/wDAyT/Gj/hKfEP/AEHtU/8AAyT/ABrJoo55dw+q0P5F9yNb/hKfEP8A0HtU/wDAyT/Gj/hKfEP/AEHtU/8AAyT/ABrJoo55dw+q0P5F9yNb/hKfEP8A0HtU/wDAyT/Gj/hKfEP/AEHtU/8AAyT/ABrJoo55dw+q0P5F9yNb/hKfEP8A0HtU/wDAyT/Gj/hKfEP/AEHtU/8AAyT/ABrJoo55dw+q0P5F9yNb/hKfEP8A0HtU/wDAyT/Gj/hKfEP/AEHtU/8AAyT/ABrJoo55dw+q0P5F9yNb/hKfEP8A0HtU/wDAyT/Gj/hKfEP/AEHtU/8AAyT/ABrJoo55dw+q0P5F9yNb/hKfEP8A0HtU/wDAyT/Gj/hKfEP/AEHtU/8AAyT/ABrJoo55dw+q0P5F9yNb/hKfEP8A0HtU/wDAyT/Gj/hKfEP/AEHtU/8AAyT/ABrJoo55dw+q0P5F9yNb/hKfEP8A0HtU/wDAyT/Gj/hKfEP/AEHtU/8AAyT/ABrJoo55dw+q0P5F9yNb/hKfEP8A0HtU/wDAyT/Gj/hKfEP/AEHtU/8AAyT/ABrJoo55dw+q0P5F9yNb/hKfEP8A0HtU/wDAyT/Gj/hKfEP/AEHtU/8AAyT/ABrJoo55dw+q0P5F9yNb/hKfEP8A0HtU/wDAyT/Gj/hKfEP/AEHtU/8AAyT/ABrJoo55dw+q0P5F9yNb/hKfEP8A0HtU/wDAyT/Gj/hKfEP/AEHtU/8AAyT/ABrJoo55dw+q0P5F9yNb/hKfEP8A0HtU/wDAyT/Gj/hKfEP/AEHtU/8AAyT/ABrJoo55dw+q0P5F9yNb/hKfEP8A0HtU/wDAyT/Gj/hKfEP/AEHtU/8AAyT/ABrJoo55dw+q0P5F9yNb/hKfEP8A0HtU/wDAyT/Gj/hKfEP/AEHtU/8AAyT/ABrJoo55dw+q0P5F9yNb/hKfEP8A0HtU/wDAyT/Gj/hKfEP/AEHtU/8AAyT/ABrJoo55dw+q0P5F9yNb/hKfEP8A0HtU/wDAyT/Gj/hKfEP/AEHtU/8AAyT/ABrJoo55dw+q0P5F9yNb/hKfEP8A0HtU/wDAyT/Gj/hKfEP/AEHtU/8AAyT/ABrJoo55dw+q0P5F9yNb/hKfEP8A0HtU/wDAyT/Gj/hKfEP/AEHtU/8AAyT/ABrJoo55dw+q0P5F9yNb/hKfEP8A0HtU/wDAyT/Gj/hKfEP/AEHtU/8AAyT/ABrJoo55dw+q0P5F9yNb/hKfEP8A0HtU/wDAyT/Gj/hKfEP/AEHtU/8AAyT/ABrJoo55dw+q0P5F9yNb/hKfEP8A0HtU/wDAyT/Gj/hKfEP/AEHtU/8AAyT/ABrJoo55dw+q0P5F9yNb/hKfEP8A0HtU/wDAyT/Gj/hKfEP/AEHtU/8AAyT/ABrJoo55dw+q0P5F9yNb/hKfEP8A0HtU/wDAyT/Gj/hKfEP/AEHtU/8AAyT/ABrJoo55dw+q0P5F9yNb/hKfEP8A0HtU/wDAyT/Gj/hKfEP/AEHtU/8AAyT/ABrJoo55dw+q0P5F9yNb/hKfEP8A0HtU/wDAyT/Gj/hKfEP/AEHtU/8AAyT/ABrJoo55dw+q0P5F9yNb/hKfEP8A0HtU/wDAyT/Gj/hKfEP/AEHtU/8AAyT/ABrJoo55dw+q0P5F9yNb/hKfEP8A0HtU/wDAyT/Gj/hKfEP/AEHtU/8AAyT/ABrJoo55dw+q0P5F9yNb/hKfEP8A0HtU/wDAyT/Gj/hKfEP/AEHtU/8AAyT/ABrJoo55dw+q0P5F9yNb/hKfEP8A0HtU/wDAyT/Gj/hKfEP/AEHtU/8AAyT/ABrJoo55dw+q0P5F9yNb/hKfEP8A0HtU/wDAyT/Gj/hKfEP/AEHtU/8AAyT/ABrJoo55dw+q0P5F9yNb/hKfEP8A0HtU/wDAyT/Gj/hKfEP/AEHtU/8AAyT/ABrJoo55dw+q0P5F9yNb/hKfEP8A0HtU/wDAyT/Gj/hKfEP/AEHtU/8AAyT/ABrJoo55dw+q0P5F9yNb/hKfEP8A0HtU/wDAyT/Gj/hKfEP/AEHtU/8AAyT/ABrJoo55dw+q0P5F9yNb/hKfEP8A0HtU/wDAyT/Gj/hKfEP/AEHtU/8AAyT/ABrJoo55dw+q0P5F9yNb/hKfEP8A0HtU/wDAyT/Gj/hKfEP/AEHtU/8AAyT/ABrJoo55dw+q0P5F9yNb/hKfEP8A0HtU/wDAyT/Gj/hKfEP/AEHtU/8AAyT/ABrJoo55dw+q0P5F9yNb/hKfEP8A0HtU/wDAyT/Gj/hKfEP/AEHtU/8AAyT/ABrJoo55dw+q0P5F9yNb/hKfEP8A0HtU/wDAyT/Gj/hKfEP/AEHtU/8AAyT/ABrJoo55dw+q0P5F9yNb/hKfEP8A0HtU/wDAyT/Gj/hKfEP/AEHtU/8AAyT/ABrJoo55dw+q0P5F9yNb/hKfEP8A0HtU/wDAyT/Gj/hKfEP/AEHtU/8AAyT/ABrJoo55dw+q0P5F9yNb/hKfEP8A0HtU/wDAyT/Gj/hKfEP/AEHtU/8AAyT/ABrJoo55dw+q0P5F9yNb/hKfEP8A0HtU/wDAyT/Gj/hKfEP/AEHtU/8AAyT/ABrJoo55dw+q0P5F9yNb/hKfEP8A0HtU/wDAyT/Gj/hKfEP/AEHtU/8AAyT/ABrJoo55dw+q0P5F9yNb/hKfEP8A0HtU/wDAyT/Gj/hKfEP/AEHtU/8AAyT/ABrJoo55dw+q0P5F9yNb/hKfEP8A0HtU/wDAyT/Gj/hKfEP/AEHtU/8AAyT/ABrJoo55dw+q0P5F9yNb/hKfEP8A0HtU/wDAyT/Gj/hKfEP/AEHtU/8AAyT/ABrJoo55dw+q0P5F9yNb/hKfEP8A0HtU/wDAyT/Gj/hKfEP/AEHtU/8AAyT/ABrJoo55dw+q0P5F9yNb/hKfEP8A0HtU/wDAyT/Gj/hKfEP/AEHtU/8AAyT/ABrJoo55dw+q0P5F9yNb/hKfEP8A0HtU/wDAyT/Gj/hKfEP/AEHtU/8AAyT/ABrJoo55dw+q0P5F9yNb/hKfEP8A0HtU/wDAyT/Gj/hKfEP/AEHtU/8AAyT/ABrJoo55dw+q0P5F9yNb/hKfEP8A0HtU/wDAyT/Gj/hKfEP/AEHtU/8AAyT/ABrJoo55dw+q0P5F9yNb/hKfEP8A0HtU/wDAyT/Gj/hKfEP/AEHtU/8AAyT/ABrJoo55dw+q0P5F9yNb/hKfEP8A0HtU/wDAyT/Gj/hKfEP/AEHtU/8AAyT/ABrJoo55dw+q0P5F9yNb/hKfEP8A0HtU/wDAyT/Gj/hKfEP/AEHtU/8AAyT/ABrJoo55dw+q0P5F9yNb/hKfEP8A0HtU/wDAyT/Gj/hKfEP/AEHtU/8AAyT/ABrJoo55dw+q0P5F9yNb/hKfEP8A0HtU/wDAyT/Gj/hKfEP/AEHtU/8AAyT/ABrJoo55dw+q0P5F9yNb/hKfEP8A0HtU/wDAyT/Gj/hKfEP/AEHtU/8AAyT/ABrJoo55dw+q0P5F9yNb/hKfEP8A0HtU/wDAyT/Gj/hKfEP/AEHtU/8AAyT/ABrJoo55dw+q0P5F9yNb/hKfEP8A0HtU/wDAyT/Gj/hKfEP/AEHtU/8AAyT/ABrJoo55dw+q0P5F9yNb/hKfEP8A0HtU/wDAyT/Gj/hKfEP/AEHtU/8AAyT/ABrJoo55dw+q0P5F9yNb/hKfEP8A0HtU/wDAyT/Gj/hKfEP/AEHtU/8AAyT/ABrJoo55dw+q0P5F9yNb/hKfEP8A0HtU/wDAyT/Gj/hKfEP/AEHtU/8AAyT/ABrJoo55dw+q0P5F9yNb/hKfEP8A0HtU/wDAyT/Gj/hKfEP/AEHtU/8AAyT/ABrJoo55dw+q0P5F9yNb/hKfEP8A0HtU/wDAyT/Gj/hKfEP/AEHtU/8AAyT/ABrJoo55dw+q0P5F9yNb/hKfEP8A0HtU/wDAyT/Gj/hKfEP/AEHtU/8AAyT/ABrJoo55dw+q0P5F9yNb/hKfEP8A0HtU/wDAyT/Gj/hKfEP/AEHtU/8AAyT/ABrJoo55dw+q0P5F9yNb/hKfEP8A0HtU/wDAyT/Gj/hKfEP/AEHtU/8AAyT/ABrJoo55dw+q0P5F9yNb/hKfEP8A0HtU/wDAyT/Gj/hKfEP/AEHtU/8AAyT/ABrJoo55dw+q0P5F9yNb/hKfEP8A0HtU/wDAyT/Gj/hKfEP/AEHtU/8AAyT/ABrJoo55dw+q0P5F9yNb/hKfEP8A0HtU/wDAyT/Gj/hKfEP/AEHtU/8AAyT/ABrJoo55dw+q0P5F9yNb/hKfEP8A0HtU/wDAyT/Gj/hKfEP/AEHtU/8AAyT/ABrJoo55dw+q0P5F9yNb/hKfEP8A0HtU/wDAyT/Gj/hKfEP/AEHtU/8AAyT/ABrJoo55dw+q0P5F9yNb/hKfEP8A0HtU/wDAyT/Gj/hKfEP/AEHtU/8AAyT/ABrJoo55dw+q0P5F9yNb/hKfEP8A0HtU/wDAyT/Gq9/4s8Rpp10y+INVVlhcgi8kBBwfeqNVdS/5Bd3/ANcX/wDQTVQnLmWphicNRVGbUFs+i7HO/wDCd+MP+hr1z/wYzf8AxVFc/RX0R+OH1/8AG3/kkOu/9u//AKUR14Fpv/ILtP8Arin/AKCK99+Nv/JIdd/7d/8A0ojrwLTf+QXaf9cU/wDQRXnZj8MT7Hg7+PV9F+Zaoooryj9ACiiigAooooAKKKKACiiigAooooAKKKKACiiigAooooAKKKKACiiigAooooAKKKKACiiigAooooAKKKKACiiigAooooAKKKKACiiigAooooAKKKKACiiigAooooAKKKKACiiigAooooAKKKKACiiigAooooAKKKKACiiigAooooAKKKKACiiigAooooAKKKKACiiigAooooAKKKKACiiigAooooAKKKKACiiigAooooAKKKKACiiigAooooAKKKKACiiigAooooAKKKKACiiigAooooAKKKKACiiigAooooAKKKKACiiigAooooAKKKKACiiigAooooAKKKKACiiigAooooAKKKKACiiigAooooAKKKKACiiigAooooAKKKKACiiigAooooAKKKKACiiigAooooAKKKKACiiigAooooAKKKKACiiigAqrqX/ILu/+uL/+gmrVVdS/5Bd3/wBcX/8AQTVQ+JGGK/gT9H+R57RRRX0h+Kn1/wDG3/kkOu/9u/8A6UR14Fpv/ILtP+uKf+givqXxT4bs/F3hy70O/knjtbrZveBgHG11cYJBHVR2rkofhLFaW8dvbeN/GsMESBI449VCqigYAACYAA4xXPiMP7ZJXtY9nJs2/s2cp8nNzK29v0Z4jRXuB+FrFePHnjjPvq//ANhSj4XH/oe/HP8A4OP/ALCuT+zv734f8E9//XP/AKcf+Tf/AGp4dRXuDfDFU+94+8bj66x/9hQvwvyMnx943/DWP/sKP7O/vfh/wQ/1z/6cf+Tf/anh9Fe4/wDCrx/0P3jj/wAHH/2FH/Cr/Tx545P01j/7Cj+zv734f8EP9c/+nH/k3/2p4dRXuX/Crf8AqfPHI/7jH/2FNPwvw23/AITzxwCehOsdf/HKP7O/vfh/wQ/1z/6cf+Tf/anh9Fe4/wDCrWxx488cZ/7C/wD9hSf8Kv6A+PfHGe//ABOP/sKP7O/vfh/wQ/1z/wCnH/k3/wBqeH0V7j/wq8f9D944/wDBx/8AYUh+GAAyPHvjg+w1j/7Cj+zv734f8EP9c/8Apx/5N/8Aanh9Fe4H4X88ePfHH0/tj/7Chfhfk8+O/HI+usf/AGFH9nf3vw/4If65/wDTj/yb/wC1PD6K9y/4Vb/1PvjjP/YY/wDsKQ/C1gM/8J544z/2F/8A7Cj+zv734f8ABD/XP/px/wCTf/anh1Fe3t8Lyo3f8J544x/2GP8A7Ckb4YiNwH8feNwG+7/xOP8A7Cj+zv734f8ABD/XP/px/wCTf/aniNFe3/8ACsP4v+E98cFfbWP/ALCl/wCFXEAE+PPHHPTGr/8A2FH9nf3vw/4If65/9OP/ACb/AO1PD6K9xPwtI/5nzxx9P7Y/+wpF+F7Nk/8ACd+ORj/qMf8A2FH9nf3vw/4If65/9OP/ACb/AO1PD6K9wX4YArlvHnjlfY6x/wDYU7/hVwAyfHvjjH/YY/8AsKP7O/vfh/wQ/wBc/wDpx/5N/wDanhtFe4f8KwU5A8feOM/9hj/7Cj/hV5x/yPnjk/TWP/sKP7O/vfh/wQ/1z/6cf+Tf/anh9Fe4D4X5IH/Ce+OAx7HWP/sKQfDAbmB8e+OBj/qMf/YUf2d/e/D/AIIf65/9OP8Ayb/7U8Qor3IfCwkc+PPHH/g4/wDsKX/hVn/U++Of/Bx/9hR/Z3978P8Agh/rn/04/wDJv/tTwyivcz8LOP8AkffHH/g4/wDsKb/wq7HB8eeOM+2sf/YUf2d/e/D/AIIf65/9OP8Ayb/7U8Oor3BvheVH/I9eOj/3GP8A7CkPwxIHHjvxy301j/7Cj+zv734f8EP9c/8Apx/5N/8AaniFFe4f8Kv/AOp88cf+Djp/45S/8KvH/Q/eOP8Awcf/AGFH9nf3vw/4If65/wDTj/yb/wC1PDqK9x/4VeP+h+8cf+Dj/wCwpP8AhV/OP+E88c89D/bH/wBhR/Z3978P+CH+uf8A04/8m/8AtTw+ivb2+GGzr488cE+g1j/7CnD4XZGf+E98cY/7DH/2FH9nf3vw/wCCH+uf/Tj/AMm/+1PDqK9z/wCFWf8AU++Of/Bx/wDYUf8ACrP+p98c/wDg4/8AsKP7O/vfh/wQ/wBc/wDpx/5N/wDanhlFe5/8Ks/6n3xz/wCDj/7Cj/hVn/U++Of/AAcf/YUf2d/e/D/gh/rn/wBOP/Jv/tTwyivc/wDhVn/U++Of/Bx/9hR/wqz/AKn3xz/4OP8A7Cj+zv734f8ABD/XP/px/wCTf/anhlFe5/8ACrP+p98c/wDg4/8AsKP+FWf9T745/wDBx/8AYUf2d/e/D/gh/rn/ANOP/Jv/ALU8Mor3P/hVn/U++Of/AAcf/YUf8Ks/6n3xz/4OP/sKP7O/vfh/wQ/1z/6cf+Tf/anhlFe5/wDCrP8AqffHP/g4/wDsKP8AhVn/AFPvjn/wcf8A2FH9nf3vw/4If65/9OP/ACb/AO1PDKK9z/4VZ/1Pvjn/AMHH/wBhR/wqz/qffHP/AIOP/sKP7O/vfh/wQ/1z/wCnH/k3/wBqeGUV7n/wqz/qffHP/g4/+wo/4VZ/1Pvjn/wcf/YUf2d/e/D/AIIf65/9OP8Ayb/7U8Mor3P/AIVZ/wBT745/8HH/ANhR/wAKs/6n3xz/AODj/wCwo/s7+9+H/BD/AFz/AOnH/k3/ANqeGUV7n/wqz/qffHP/AIOP/sKP+FWf9T745/8ABx/9hR/Z3978P+CH+uf/AE4/8m/+1PDKK9z/AOFWf9T745/8HH/2FH/CrP8AqffHP/g4/wDsKP7O/vfh/wAEP9c/+nH/AJN/9qeGUV7n/wAKs/6n3xz/AODj/wCwo/4VZ/1Pvjn/AMHH/wBhR/Z3978P+CH+uf8A04/8m/8AtTwyivc/+FWf9T745/8ABx/9hR/wqz/qffHP/g4/+wo/s7+9+H/BD/XP/px/5N/9qeGUV7n/AMKs/wCp98c/+Dj/AOwo/wCFWf8AU++Of/Bx/wDYUf2d/e/D/gh/rn/04/8AJv8A7U8Mor3P/hVn/U++Of8Awcf/AGFH/CrP+p98c/8Ag4/+wo/s7+9+H/BD/XP/AKcf+Tf/AGp4ZRXuf/CrP+p98c/+Dj/7Cj/hVn/U++Of/Bx/9hR/Z3978P8Agh/rn/04/wDJv/tTwyivc/8AhVn/AFPvjn/wcf8A2FH/AAqz/qffHP8A4OP/ALCj+zv734f8EP8AXP8A6cf+Tf8A2p4ZRXuf/CrP+p98c/8Ag4/+wo/4VZ/1Pvjn/wAHH/2FH9nf3vw/4If65/8ATj/yb/7U8Mor3P8A4VZ/1Pvjn/wcf/YUf8Ks/wCp98c/+Dj/AOwo/s7+9+H/AAQ/1z/6cf8Ak3/2p4ZRXuf/AAqz/qffHP8A4OP/ALCj/hVn/U++Of8Awcf/AGFH9nf3vw/4If65/wDTj/yb/wC1PDKK9z/4VZ/1Pvjn/wAHH/2FH/CrP+p98c/+Dj/7Cj+zv734f8EP9c/+nH/k3/2p4ZRXuf8Awqz/AKn3xz/4OP8A7Cj/AIVZ/wBT745/8HH/ANhR/Z3978P+CH+uf/Tj/wAm/wDtTwyivc/+FWf9T745/wDBx/8AYUf8Ks/6n3xz/wCDj/7Cj+zv734f8EP9c/8Apx/5N/8AanhlFe5/8Ks/6n3xz/4OP/sKP+FWf9T745/8HH/2FH9nf3vw/wCCH+uf/Tj/AMm/+1PDKK9z/wCFWf8AU++Of/Bx/wDYUf8ACrP+p98c/wDg4/8AsKP7O/vfh/wQ/wBc/wDpx/5N/wDanhlFe5/8Ks/6n3xz/wCDj/7Cj/hVn/U++Of/AAcf/YUf2d/e/D/gh/rn/wBOP/Jv/tTwyivc/wDhVn/U++Of/Bx/9hR/wqz/AKn3xz/4OP8A7Cj+zv734f8ABD/XP/px/wCTf/anhlFe5/8ACrP+p98c/wDg4/8AsKP+FWf9T745/wDBx/8AYUf2d/e/D/gh/rn/ANOP/Jv/ALU8Mor3P/hVn/U++Of/AAcf/YUf8Ks/6n3xz/4OP/sKP7O/vfh/wQ/1z/6cf+Tf/anhlFe5/wDCrP8AqffHP/g4/wDsKP8AhVn/AFPvjn/wcf8A2FH9nf3vw/4If65/9OP/ACb/AO1PDKK9z/4VZ/1Pvjn/AMHH/wBhR/wqz/qffHP/AIOP/sKP7O/vfh/wQ/1z/wCnH/k3/wBqeGUV7n/wqz/qffHP/g4/+wo/4VZ/1Pvjn/wcf/YUf2d/e/D/AIIf65/9OP8Ayb/7U8Mor3P/AIVZ/wBT745/8HH/ANhR/wAKs/6n3xz/AODj/wCwo/s7+9+H/BD/AFz/AOnH/k3/ANqeGUV7n/wqz/qffHP/AIOP/sKP+FWf9T745/8ABx/9hR/Z3978P+CH+uf/AE4/8m/+1PDKK9z/AOFWf9T745/8HH/2FH/CrP8AqffHP/g4/wDsKP7O/vfh/wAEP9c/+nH/AJN/9qeGUV7n/wAKs/6n3xz/AODj/wCwo/4VZ/1Pvjn/AMHH/wBhR/Z3978P+CH+uf8A04/8m/8AtTwyivc/+FWf9T745/8ABx/9hR/wqz/qffHP/g4/+wo/s7+9+H/BD/XP/px/5N/9qeGUV7n/AMKs/wCp98c/+Dj/AOwo/wCFWf8AU++Of/Bx/wDYUf2d/e/D/gh/rn/04/8AJv8A7U8Mor3P/hVn/U++Of8Awcf/AGFH/CrP+p98c/8Ag4/+wo/s7+9+H/BD/XP/AKcf+Tf/AGp4ZRXuf/CrP+p98c/+Dj/7Cj/hVn/U++Of/Bx/9hR/Z3978P8Agh/rn/04/wDJv/tTwyivc/8AhVn/AFPvjn/wcf8A2FH/AAqz/qffHP8A4OP/ALCj+zv734f8EP8AXP8A6cf+Tf8A2p4ZRXuf/CrP+p98c/8Ag4/+wo/4VZ/1Pvjn/wAHH/2FH9nf3vw/4If65/8ATj/yb/7U8Mor3P8A4VZ/1Pvjn/wcf/YUf8Ks/wCp98c/+Dj/AOwo/s7+9+H/AAQ/1z/6cf8Ak3/2p4ZRXuf/AAqz/qffHP8A4OP/ALCj/hVn/U++Of8Awcf/AGFH9nf3vw/4If65/wDTj/yb/wC1PDKK9z/4VZ/1Pvjn/wAHH/2FH/CrP+p98c/+Dj/7Cj+zv734f8EP9c/+nH/k3/2p4ZRXuf8Awqz/AKn3xz/4OP8A7Cj/AIVZ/wBT745/8HH/ANhR/Z3978P+CH+uf/Tj/wAm/wDtTwyivc/+FWf9T745/wDBx/8AYUf8Ks/6n3xz/wCDj/7Cj+zv734f8EP9c/8Apx/5N/8AanhlFe5/8Ks/6n3xz/4OP/sKP+FWf9T745/8HH/2FH9nf3vw/wCCH+uf/Tj/AMm/+1PDKK9z/wCFWf8AU++Of/Bx/wDYUf8ACrP+p98c/wDg4/8AsKP7O/vfh/wQ/wBc/wDpx/5N/wDanhlFe5/8Ks/6n3xz/wCDj/7Cj/hVn/U++Of/AAcf/YUf2d/e/D/gh/rn/wBOP/Jv/tTwyivc/wDhVn/U++Of/Bx/9hR/wqz/AKn3xz/4OP8A7Cj+zv734f8ABD/XP/px/wCTf/anhlFe5/8ACrP+p98c/wDg4/8AsKP+FWf9T745/wDBx/8AYUf2d/e/D/gh/rn/ANOP/Jv/ALU8Mor3P/hVn/U++Of/AAcf/YUf8Ks/6n3xz/4OP/sKP7O/vfh/wQ/1z/6cf+Tf/anhlFe5/wDCrP8AqffHP/g4/wDsKP8AhVn/AFPvjn/wcf8A2FH9nf3vw/4If65/9OP/ACb/AO1PDKK9z/4VZ/1Pvjn/AMHH/wBhR/wqz/qffHP/AIOP/sKP7O/vfh/wQ/1z/wCnH/k3/wBqeGUV7n/wqz/qffHP/g4/+wo/4VZ/1Pvjn/wcf/YUf2d/e/D/AIIf65/9OP8Ayb/7U8Mor3P/AIVZ/wBT745/8HH/ANhR/wAKs/6n3xz/AODj/wCwo/s7+9+H/BD/AFz/AOnH/k3/ANqeGUV7n/wqz/qffHP/AIOP/sKP+FWf9T745/8ABx/9hR/Z3978P+CH+uf/AE4/8m/+1PDKK9z/AOFWf9T745/8HH/2FH/CrP8AqffHP/g4/wDsKP7O/vfh/wAEP9c/+nH/AJN/9qeGUV7n/wAKs/6n3xz/AODj/wCwo/4VZ/1Pvjn/AMHH/wBhR/Z3978P+CH+uf8A04/8m/8AtTwyivc/+FWf9T745/8ABx/9hR/wqz/qffHP/g4/+wo/s7+9+H/BD/XP/px/5N/9qeGUV7n/AMKs/wCp98c/+Dj/AOwo/wCFWf8AU++Of/Bx/wDYUf2d/e/D/gh/rn/04/8AJv8A7U8Mor3P/hVn/U++Of8Awcf/AGFH/CrP+p98c/8Ag4/+wo/s7+9+H/BD/XP/AKcf+Tf/AGp4ZVXUv+QXd/8AXF//AEE177/wqz/qffHP/g4/+wqOf4SQ3VvLb3HjfxrNBKhSSOTVgyupGCCCmCCOMU45fZp834f8Eirxh7SEoex3Vvi/+1PkSivp/wD4Zx8H/wDQS1z/AL/w/wDxqivSPij2CmN/rF+lFFADR/rqxfFUskWmlo3ZDg8qcUUUAeSahqN7z/plx1/56t/jVEapqGB/p11/3+b/ABoooAP7U1D/AJ/7r/v83+NINV1EOMX91/3+b/GiigD0vwZc3E0a+bPLJ/vuTXbjmQZ5oooA8/8AiJd3NuyeRcSxdPuOV/lXnaarqJZs3911/wCezf40UUAP/tTUP+f+6/7/ADf40h1TUf8An/uv+/zf40UUALHqmofaF/0+6/7/ADf41614LnmntiZZXkOOrsTRRQB1TfeFPPWiigCOT7v4V4744vruLXGWO6nRQeAshAFFFAHd+B5ZJtFBlkdzzyzE11A+6KKKAEH+spz8IaKKAPMvGV3cxSP5dxKn+65FcG+q6jux/aF1j/rs3+NFFAEkup6gBkX1yPl/56t/jTV1XURAf9Puuv8Az2b/ABoooA7bwHeXVxBO01zNIQeC7k4496wtb1C9TxLKi3lwq+YPlErAfzoooA9j0hmfTISxJJUck1eoooAY/b60v8dFFACN0Nc14plkhs2MUjocdVYiiigDyW61TUBcMBfXQ/7bN/jUP9qah/z/AN1/3+b/ABoooAUapqG4f6fdf9/m/wAauaXqd+2tRK19clfQytj+dFFAHZa1d3KXcO24lX6ORXbaWxbR0LEk46k0UUAafaiiigAooooAKKKKACiiigAooooAKKKKACiiigAooooAKKKKACiiigAooooAKKKKACiiigAooooAKKKKACiiigAooooAKKKKACiiigAooooAKKKKACiiigAooooAKKKKACiiigAooooAKKKKACiiigAooooAKKKKACiiigAooooAKKKKACiiigAooooAKKKKACiiigAooooAKKKKACiiigAooooAKKKKACiiigAooooAKKKKACiiigAooooAKKKKACiiigAooooAKKKKACiiigAooooAKKKKACiiigAooooAKKKKACiiigAooooAKKKKACiiigAooooAKKKKACiiigAooooA/9k=',\n",
       "   'image_mime_type': 'image/jpeg',\n",
       "   'languages': ['eng'],\n",
       "   'page_number': 1},\n",
       "  'text': '',\n",
       "  'type': 'Image'},\n",
       " {'element_id': '0cf631df-6eef-49e5-92ef-fbe5b42aa97f',\n",
       "  'metadata': {'coordinates': {'layout_height': 2339,\n",
       "    'layout_width': 1656,\n",
       "    'points': [[156.1, 241.5], [156.1, 292.9], [479.7, 292.9], [479.7, 241.5]],\n",
       "    'system': 'PixelSpace'},\n",
       "   'detection_class_prob': 0.74998,\n",
       "   'filetype': 'PPM',\n",
       "   'languages': ['eng'],\n",
       "   'page_number': 1},\n",
       "  'text': 'ORACLE',\n",
       "  'type': 'NarrativeText'},\n",
       " {'element_id': '993d281c-e126-4177-b824-cca66f19f2e6',\n",
       "  'metadata': {'coordinates': {'layout_height': 2339,\n",
       "    'layout_width': 1656,\n",
       "    'points': [[520.1, 328.4],\n",
       "     [520.1, 365.2],\n",
       "     [1135.3, 365.2],\n",
       "     [1135.3, 328.4]],\n",
       "    'system': 'PixelSpace'},\n",
       "   'detection_class_prob': 0.82429,\n",
       "   'filetype': 'PPM',\n",
       "   'languages': ['eng'],\n",
       "   'page_number': 1},\n",
       "  'text': 'ORACLE CLOUD SERVICES AGREEMENT',\n",
       "  'type': 'Title'},\n",
       " {'element_id': '49392be8-3733-468a-9149-139144bfc694',\n",
       "  'metadata': {'coordinates': {'layout_height': 2339,\n",
       "    'layout_width': 1656,\n",
       "    'points': [[128.0, 402.4],\n",
       "     [128.0, 501.4],\n",
       "     [1517.5, 501.4],\n",
       "     [1517.5, 402.4]],\n",
       "    'system': 'PixelSpace'},\n",
       "   'detection_class_prob': 0.92877,\n",
       "   'filetype': 'PPM',\n",
       "   'languages': ['eng'],\n",
       "   'page_number': 1},\n",
       "  'text': 'This Oracle Cloud Services Agreement (this “Agreement”) is between Oracle Corporation Singapore Pte Ltd (“Oracle”, “we, o« \" us,” or “our”) and (“You”). This Agreement sets forth the terms and conditions that govern orders placed under this Agreement.',\n",
       "  'type': 'NarrativeText'},\n",
       " {'element_id': '54369ba4-45a1-4561-b3c4-4f9404b68023',\n",
       "  'metadata': {'coordinates': {'layout_height': 2339,\n",
       "    'layout_width': 1656,\n",
       "    'points': [[143.8, 559.7], [143.8, 595.3], [572.4, 595.3], [572.4, 559.7]],\n",
       "    'system': 'PixelSpace'},\n",
       "   'detection_class_prob': 0.86733,\n",
       "   'filetype': 'PPM',\n",
       "   'languages': ['eng'],\n",
       "   'page_number': 1},\n",
       "  'text': 'USE OF THE SERVICES',\n",
       "  'type': 'Title'},\n",
       " {'element_id': 'dc710060-91a1-48e6-a6f7-fea4b5018488',\n",
       "  'metadata': {'coordinates': {'layout_height': 2339,\n",
       "    'layout_width': 1656,\n",
       "    'points': [[155.2, 625.7],\n",
       "     [155.2, 823.1],\n",
       "     [1512.2, 823.1],\n",
       "     [1512.2, 625.7]],\n",
       "    'system': 'PixelSpace'},\n",
       "   'detection_class_prob': 0.9447,\n",
       "   'filetype': 'PPM',\n",
       "   'languages': ['eng'],\n",
       "   'page_number': 1},\n",
       "  'text': '11 We will make the Oracle services listed in Your order (the “Services”) available to You pursuant to this Agreement and Your order. Except as otherwise stated in this Agreement or Your order, You have the non-exclusive, worldwide, limited right to use the Services during the period defined in Your order, unless earlier terminated in accordance with this Agreement or Your order (the “Services Period”), solely for Your internal business operations. You may allow Your Users (as defined below) to use the Services for this purpose, and You are responsible for their compliance with this Agreement and Your order.',\n",
       "  'type': 'NarrativeText'},\n",
       " {'element_id': 'a398257a-990c-4654-8183-1eef39b6cf02',\n",
       "  'metadata': {'coordinates': {'layout_height': 2339,\n",
       "    'layout_width': 1656,\n",
       "    'points': [[163.5, 849.6],\n",
       "     [163.5, 1075.1],\n",
       "     [1504.3, 1075.1],\n",
       "     [1504.3, 849.6]],\n",
       "    'system': 'PixelSpace'},\n",
       "   'detection_class_prob': 0.95193,\n",
       "   'filetype': 'PPM',\n",
       "   'languages': ['eng'],\n",
       "   'page_number': 1},\n",
       "  'text': '1.2 The Service Specifications describe and govern the Services. During the Services Period, we may update the Services and Service Specifications (with the exception of the Data Processing Agreement as described below) to reflect changes in, among other things, laws, regulations, rules, technology, industry practices, patterns of system use, and availability of Third Party Content (as defined below). Oracle updates to the Services or Service Specifications will not materially reduce the level of performance, functionality, security or availability of the Services during the Services Period of Your order.',\n",
       "  'type': 'NarrativeText'},\n",
       " {'element_id': '2e0d5e82-7363-42a2-bd74-7de42b0f4214',\n",
       "  'metadata': {'coordinates': {'layout_height': 2339,\n",
       "    'layout_width': 1656,\n",
       "    'points': [[156.8, 1105.2],\n",
       "     [156.8, 1491.3],\n",
       "     [1513.4, 1491.3],\n",
       "     [1513.4, 1105.2]],\n",
       "    'system': 'PixelSpace'},\n",
       "   'detection_class_prob': 0.96782,\n",
       "   'filetype': 'PPM',\n",
       "   'languages': ['eng'],\n",
       "   'page_number': 1},\n",
       "  'text': '1.3 You may not, and may not cause or permit others to: (a) use the Services to harass any person; cause damage or injury to any person or property; publish any material that is false, defamatory, harassing or obscene; violate privacy rights; promote bigotry, racism, hatred or harm; send unsolicited bulk e-mail, junk mail, spam or chain letters; infringe property rights; or otherwise violate applicable laws, ordinances or regulations; (b) perform or disclose any benchmarking or availability testing of the Services; (c) perform or disclose any performance or vulnerability testing of the Services without Oracle’s prior written approval, or perform or disclose network discovery, port and service identification, vulnerability scanning, password cracking or remote access testing of the Services; or (d) use the Services to perform cyber currency or crypto currency mining ((a) through (d) collectively, the “Acceptable Use Policy”). In addition to other rights that we have in this Agreement and Your order, we have the right to take remedial action if the Acceptable Use Policy is violated, and such remedial action may include removing or disabling access to material that violates the policy.',\n",
       "  'type': 'NarrativeText'}]"
      ]
     },
     "execution_count": 28,
     "metadata": {},
     "output_type": "execute_result"
    }
   ],
   "source": [
    "atomic_elements"
   ]
  }
 ],
 "metadata": {
  "kernelspec": {
   "display_name": "document_processing (3.11.12)",
   "language": "python",
   "name": "python3"
  },
  "language_info": {
   "codemirror_mode": {
    "name": "ipython",
    "version": 3
   },
   "file_extension": ".py",
   "mimetype": "text/x-python",
   "name": "python",
   "nbconvert_exporter": "python",
   "pygments_lexer": "ipython3",
   "version": "3.11.12"
  }
 },
 "nbformat": 4,
 "nbformat_minor": 5
}
